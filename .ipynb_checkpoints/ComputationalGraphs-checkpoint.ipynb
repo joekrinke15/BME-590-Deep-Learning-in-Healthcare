{
 "cells": [
  {
   "cell_type": "code",
   "execution_count": 2,
   "metadata": {},
   "outputs": [],
   "source": [
    "import tensorflow as tf"
   ]
  },
  {
   "cell_type": "markdown",
   "metadata": {},
   "source": [
    "# TensorFlow Autograph Issue\n",
    "\n",
    "It appears that TensorFlow has issues when trying to calculate the gradient of the following computation. Let's try to find out why."
   ]
  },
  {
   "cell_type": "code",
   "execution_count": 3,
   "metadata": {},
   "outputs": [],
   "source": [
    "#Define function using tensorflow defaults\n",
    "def log1pexp(x):\n",
    "    return tf.math.log(1 + tf.exp(x))"
   ]
  },
  {
   "cell_type": "code",
   "execution_count": 4,
   "metadata": {},
   "outputs": [],
   "source": [
    "#Set up the computation\n",
    "x = tf.constant(100.)\n",
    "y = log1pexp(x)\n",
    "dy = tf.gradients(y, x)[0]"
   ]
  },
  {
   "cell_type": "code",
   "execution_count": 5,
   "metadata": {},
   "outputs": [
    {
     "name": "stdout",
     "output_type": "stream",
     "text": [
      "nan\n"
     ]
    }
   ],
   "source": [
    "#Print out output of tensorflow calculation.\n",
    "with tf.Session() as sess:  print(dy.eval()) "
   ]
  },
  {
   "cell_type": "markdown",
   "metadata": {},
   "source": [
    "As you can see, a gradient that should be easy to calculate ends up producing a NaN value. This is actually due to the way that TensorFlow handles the natural logarithm; values passed to the tf.math.log method that are too large or small cause inf values to be produced."
   ]
  },
  {
   "cell_type": "code",
   "execution_count": 6,
   "metadata": {},
   "outputs": [
    {
     "name": "stdout",
     "output_type": "stream",
     "text": [
      "inf inf -inf\n"
     ]
    }
   ],
   "source": [
    "#Evalaute the result of the exponentiation.\n",
    "a = tf.exp(100.)\n",
    "b = tf.math.log(tf.exp(100.))\n",
    "c = tf.math.log(tf.exp(-100.))\n",
    "with tf.Session() as sess:  print(a.eval(), b.eval(), c.eval()) "
   ]
  },
  {
   "cell_type": "markdown",
   "metadata": {},
   "source": [
    "Implementing a custom gradient as follows will allow us to produce the correct result. "
   ]
  },
  {
   "cell_type": "code",
   "execution_count": 7,
   "metadata": {},
   "outputs": [],
   "source": [
    "#Implement custom gradient.\n",
    "@tf.custom_gradient\n",
    "def log1pexp_fix(x):\n",
    "    e = tf.exp(x)\n",
    "    def grad(dy):\n",
    "        return dy * (1 - 1 / (1+e))\n",
    "    return tf.math.log(1 + e), grad"
   ]
  },
  {
   "cell_type": "code",
   "execution_count": 8,
   "metadata": {},
   "outputs": [
    {
     "name": "stdout",
     "output_type": "stream",
     "text": [
      "1.0\n"
     ]
    }
   ],
   "source": [
    "#Compute correct gradient.\n",
    "new_grad = log1pexp_fix(x)\n",
    "dy = tf.gradients(new_grad, x)[0]\n",
    "with tf.Session() as sess:  print(dy.eval()) "
   ]
  },
  {
   "cell_type": "code",
   "execution_count": 9,
   "metadata": {},
   "outputs": [
    {
     "name": "stdout",
     "output_type": "stream",
     "text": [
      "1.0\n"
     ]
    }
   ],
   "source": [
    "# Run code to get the computational graph.\n",
    "with tf.Session() as sess:\n",
    "    writer = tf.summary.FileWriter(\"output\", sess.graph)\n",
    "    print(sess.run(dy))\n",
    "    writer.close()"
   ]
  }
 ],
 "metadata": {
  "kernelspec": {
   "display_name": "Python 3",
   "language": "python",
   "name": "python3"
  },
  "language_info": {
   "codemirror_mode": {
    "name": "ipython",
    "version": 3
   },
   "file_extension": ".py",
   "mimetype": "text/x-python",
   "name": "python",
   "nbconvert_exporter": "python",
   "pygments_lexer": "ipython3",
   "version": "3.7.3"
  }
 },
 "nbformat": 4,
 "nbformat_minor": 4
}
